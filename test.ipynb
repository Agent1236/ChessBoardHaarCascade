{
 "cells": [
  {
   "cell_type": "code",
   "execution_count": null,
   "metadata": {},
   "outputs": [],
   "source": [
    "\"\"\"import cv2 as cv\n",
    "import numpy as np\n",
    "import os\n",
    "from time import time\n",
    "from windowcapture import WindowCapture\n",
    "from vision import Vision\n",
    "\n",
    "wincap = WindowCapture('Friends - Discord')\n",
    "\n",
    "loop_time = time()\n",
    "while(True):\n",
    "\n",
    "    # get an updated image of the game\n",
    "    screenshot = wincap.get_screenshot()\n",
    "\n",
    "    # display the images\n",
    "    cv.imshow('Unprocessed', screenshot)\n",
    "\n",
    "    # debug the loop rate\n",
    "    print('FPS {}'.format(1 / (time() - loop_time)))\n",
    "    loop_time = time()\n",
    "\n",
    "    # press 'q' with the output window focused to exit.\n",
    "    # press 'f' to save screenshot as a positive image,\n",
    "    # press 'd' to save as a negative image.\n",
    "    # waits 1 ms every loop to process key presses\n",
    "    key = cv.waitKey(1)\n",
    "    if key == ord('q'):\n",
    "        cv.destroyAllWindows()\n",
    "        break\n",
    "    elif key == ord('f'):\n",
    "        cv.imwrite('positive/{}.jpg'.format(loop_time), screenshot)\n",
    "    elif key == ord('d'):\n",
    "        cv.imwrite('negative/{}.jpg'.format(loop_time), screenshot)\n",
    "\n",
    "print('Done')\"\"\""
   ]
  },
  {
   "cell_type": "code",
   "execution_count": 1,
   "metadata": {},
   "outputs": [],
   "source": [
    "# Negative data file\n",
    "\n",
    "import os\n",
    "\n",
    "def negative_desc():\n",
    "    with open('neg.txt', 'w') as f:\n",
    "        for filename in os.listdir('negative'):\n",
    "            f.write('negative/' + filename + '\\n')\n",
    "\n",
    "negative_desc()"
   ]
  },
  {
   "cell_type": "code",
   "execution_count": 1,
   "metadata": {},
   "outputs": [
    {
     "data": {
      "text/plain": [
       "-1"
      ]
     },
     "execution_count": 1,
     "metadata": {},
     "output_type": "execute_result"
    },
    {
     "ename": "",
     "evalue": "",
     "output_type": "error",
     "traceback": [
      "\u001b[1;31mThe Kernel crashed while executing code in the the current cell or a previous cell. Please review the code in the cell(s) to identify a possible cause of the failure. Click <a href='https://aka.ms/vscodeJupyterKernelCrash'>here</a> for more info. View Jupyter <a href='command:jupyter.viewOutput'>log</a> for further details."
     ]
    }
   ],
   "source": [
    "\"\"\"import cv2 as cv\n",
    "import numpy as np\n",
    "import os\n",
    "import pyautogui\n",
    "from vision import Vision\n",
    "from windowcapture import WindowCapture\n",
    "from time import time\n",
    "\n",
    "cascade_board = cv.CascadeClassifier('cascade/cascade.xml')\n",
    "wincap = WindowCapture('Friends - Discord')\n",
    "screenshot = wincap.get_screenshot()\n",
    "rectangles = cascade_board.detectMultiScale(screenshot)\n",
    "\n",
    "vision_board = Vision(None)\n",
    "detected_image = vision_board.draw_rectangles(screenshot, rectangles)\n",
    "\n",
    "cv.imshow('matched', detected_image)\n",
    "cv.waitKey()\"\"\""
   ]
  },
  {
   "cell_type": "code",
   "execution_count": 2,
   "metadata": {},
   "outputs": [
    {
     "data": {
      "text/plain": [
       "-1"
      ]
     },
     "execution_count": 2,
     "metadata": {},
     "output_type": "execute_result"
    }
   ],
   "source": [
    "import cv2 as cv\n",
    "import numpy as np\n",
    "import os\n",
    "import pyautogui\n",
    "from vision import Vision\n",
    "from time import time\n",
    "\n",
    "cascade_board = cv.CascadeClassifier('cascade/cascade.xml')\n",
    "\n",
    "ss = pyautogui.screenshot()\n",
    "screenshot = np.asarray(ss)\n",
    "rectangles = cascade_board.detectMultiScale(screenshot)\n",
    "\n",
    "vision_board = Vision(None)\n",
    "detected_image = vision_board.draw_rectangles(screenshot, rectangles)\n",
    "\n",
    "cv.imshow('matched', detected_image)\n",
    "cv.waitKey(0)"
   ]
  },
  {
   "cell_type": "code",
   "execution_count": null,
   "metadata": {},
   "outputs": [],
   "source": []
  }
 ],
 "metadata": {
  "kernelspec": {
   "display_name": "base",
   "language": "python",
   "name": "python3"
  },
  "language_info": {
   "codemirror_mode": {
    "name": "ipython",
    "version": 3
   },
   "file_extension": ".py",
   "mimetype": "text/x-python",
   "name": "python",
   "nbconvert_exporter": "python",
   "pygments_lexer": "ipython3",
   "version": "3.10.9"
  },
  "orig_nbformat": 4
 },
 "nbformat": 4,
 "nbformat_minor": 2
}
